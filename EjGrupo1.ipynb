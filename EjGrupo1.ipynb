{
 "cells": [
  {
   "cell_type": "code",
   "execution_count": 1,
   "id": "fe33687d-c489-4571-9a23-98edf0ecbdc5",
   "metadata": {},
   "outputs": [],
   "source": [
    "import pandas as pd"
   ]
  },
  {
   "cell_type": "code",
   "execution_count": 41,
   "id": "1f12bf5e-7875-4af7-9d97-a5188e9231cf",
   "metadata": {},
   "outputs": [],
   "source": [
    "import seaborn as sns"
   ]
  },
  {
   "cell_type": "code",
   "execution_count": 43,
   "id": "ea335d09-76c1-4df6-bfec-cd218795524c",
   "metadata": {},
   "outputs": [],
   "source": [
    "sns.set(color_codes = True)"
   ]
  },
  {
   "cell_type": "code",
   "execution_count": 15,
   "id": "4379e081-dce0-42ec-942c-4f232611e8ee",
   "metadata": {},
   "outputs": [],
   "source": [
    "ColaboradoresHeredia = pd.DataFrame({'NOMBRE':['pepe','Max','Juan'],\n",
    "                        'EDAD':[20,23,45],\n",
    "                         'CORREO':['pepe@empresaHE.com','Max@empresaHE.com','Juan@empresaHE.com']}).set_index('NOMBRE')"
   ]
  },
  {
   "cell_type": "code",
   "execution_count": 35,
   "id": "ada5538b-4025-4e9a-a31b-a9b19356845d",
   "metadata": {},
   "outputs": [
    {
     "data": {
      "text/html": [
       "<div>\n",
       "<style scoped>\n",
       "    .dataframe tbody tr th:only-of-type {\n",
       "        vertical-align: middle;\n",
       "    }\n",
       "\n",
       "    .dataframe tbody tr th {\n",
       "        vertical-align: top;\n",
       "    }\n",
       "\n",
       "    .dataframe thead th {\n",
       "        text-align: right;\n",
       "    }\n",
       "</style>\n",
       "<table border=\"1\" class=\"dataframe\">\n",
       "  <thead>\n",
       "    <tr style=\"text-align: right;\">\n",
       "      <th></th>\n",
       "      <th>EDAD</th>\n",
       "      <th>CORREO</th>\n",
       "    </tr>\n",
       "    <tr>\n",
       "      <th>NOMBRE</th>\n",
       "      <th></th>\n",
       "      <th></th>\n",
       "    </tr>\n",
       "  </thead>\n",
       "  <tbody>\n",
       "    <tr>\n",
       "      <th>pepe</th>\n",
       "      <td>20</td>\n",
       "      <td>pepe@empresaHE.com</td>\n",
       "    </tr>\n",
       "    <tr>\n",
       "      <th>Max</th>\n",
       "      <td>23</td>\n",
       "      <td>Max@empresaHE.com</td>\n",
       "    </tr>\n",
       "    <tr>\n",
       "      <th>Juan</th>\n",
       "      <td>45</td>\n",
       "      <td>Juan@empresaHE.com</td>\n",
       "    </tr>\n",
       "  </tbody>\n",
       "</table>\n",
       "</div>"
      ],
      "text/plain": [
       "        EDAD              CORREO\n",
       "NOMBRE                          \n",
       "pepe      20  pepe@empresaHE.com\n",
       "Max       23   Max@empresaHE.com\n",
       "Juan      45  Juan@empresaHE.com"
      ]
     },
     "execution_count": 35,
     "metadata": {},
     "output_type": "execute_result"
    }
   ],
   "source": [
    "ColaboradoresHeredia"
   ]
  },
  {
   "cell_type": "code",
   "execution_count": 17,
   "id": "7d477676-f5ef-419e-bb4d-ffa491294e52",
   "metadata": {},
   "outputs": [],
   "source": [
    "ColaboradoresSanJose = pd.DataFrame({'NOMBRE':['Isabela','Christian','Bruce'],\n",
    "                        'EDAD':[23,51,32],\n",
    "                         'CORREO':['Isabela@empresaSJ.com','Christian@empresaSJ.com','Bruce@empresaSJ.com']}).set_index('NOMBRE')"
   ]
  },
  {
   "cell_type": "code",
   "execution_count": 37,
   "id": "f0482e22-8622-49ba-aebc-2c6cd9badd5a",
   "metadata": {},
   "outputs": [
    {
     "data": {
      "text/html": [
       "<div>\n",
       "<style scoped>\n",
       "    .dataframe tbody tr th:only-of-type {\n",
       "        vertical-align: middle;\n",
       "    }\n",
       "\n",
       "    .dataframe tbody tr th {\n",
       "        vertical-align: top;\n",
       "    }\n",
       "\n",
       "    .dataframe thead th {\n",
       "        text-align: right;\n",
       "    }\n",
       "</style>\n",
       "<table border=\"1\" class=\"dataframe\">\n",
       "  <thead>\n",
       "    <tr style=\"text-align: right;\">\n",
       "      <th></th>\n",
       "      <th>EDAD</th>\n",
       "      <th>CORREO</th>\n",
       "    </tr>\n",
       "    <tr>\n",
       "      <th>NOMBRE</th>\n",
       "      <th></th>\n",
       "      <th></th>\n",
       "    </tr>\n",
       "  </thead>\n",
       "  <tbody>\n",
       "    <tr>\n",
       "      <th>Isabela</th>\n",
       "      <td>23</td>\n",
       "      <td>Isabela@empresaSJ.com</td>\n",
       "    </tr>\n",
       "    <tr>\n",
       "      <th>Christian</th>\n",
       "      <td>51</td>\n",
       "      <td>Christian@empresaSJ.com</td>\n",
       "    </tr>\n",
       "    <tr>\n",
       "      <th>Bruce</th>\n",
       "      <td>32</td>\n",
       "      <td>Bruce@empresaSJ.com</td>\n",
       "    </tr>\n",
       "  </tbody>\n",
       "</table>\n",
       "</div>"
      ],
      "text/plain": [
       "           EDAD                   CORREO\n",
       "NOMBRE                                  \n",
       "Isabela      23    Isabela@empresaSJ.com\n",
       "Christian    51  Christian@empresaSJ.com\n",
       "Bruce        32      Bruce@empresaSJ.com"
      ]
     },
     "execution_count": 37,
     "metadata": {},
     "output_type": "execute_result"
    }
   ],
   "source": [
    "ColaboradoresSanJose"
   ]
  },
  {
   "cell_type": "code",
   "execution_count": 19,
   "id": "88ce6c41-97f5-48f3-8157-2a10750d066a",
   "metadata": {},
   "outputs": [],
   "source": [
    "ColaboradoresGeneral = pd.concat([ColaboradoresHeredia,ColaboradoresSanJose])"
   ]
  },
  {
   "cell_type": "code",
   "execution_count": 25,
   "id": "975511f9-797a-4ecd-b517-5c35221e46ae",
   "metadata": {},
   "outputs": [
    {
     "data": {
      "text/html": [
       "<div>\n",
       "<style scoped>\n",
       "    .dataframe tbody tr th:only-of-type {\n",
       "        vertical-align: middle;\n",
       "    }\n",
       "\n",
       "    .dataframe tbody tr th {\n",
       "        vertical-align: top;\n",
       "    }\n",
       "\n",
       "    .dataframe thead th {\n",
       "        text-align: right;\n",
       "    }\n",
       "</style>\n",
       "<table border=\"1\" class=\"dataframe\">\n",
       "  <thead>\n",
       "    <tr style=\"text-align: right;\">\n",
       "      <th></th>\n",
       "      <th>EDAD</th>\n",
       "      <th>CORREO</th>\n",
       "    </tr>\n",
       "    <tr>\n",
       "      <th>NOMBRE</th>\n",
       "      <th></th>\n",
       "      <th></th>\n",
       "    </tr>\n",
       "  </thead>\n",
       "  <tbody>\n",
       "    <tr>\n",
       "      <th>pepe</th>\n",
       "      <td>20</td>\n",
       "      <td>pepe@empresaHE.com</td>\n",
       "    </tr>\n",
       "    <tr>\n",
       "      <th>Max</th>\n",
       "      <td>23</td>\n",
       "      <td>Max@empresaHE.com</td>\n",
       "    </tr>\n",
       "    <tr>\n",
       "      <th>Juan</th>\n",
       "      <td>45</td>\n",
       "      <td>Juan@empresaHE.com</td>\n",
       "    </tr>\n",
       "    <tr>\n",
       "      <th>Isabela</th>\n",
       "      <td>23</td>\n",
       "      <td>Isabela@empresaSJ.com</td>\n",
       "    </tr>\n",
       "    <tr>\n",
       "      <th>Christian</th>\n",
       "      <td>51</td>\n",
       "      <td>Christian@empresaSJ.com</td>\n",
       "    </tr>\n",
       "    <tr>\n",
       "      <th>Bruce</th>\n",
       "      <td>32</td>\n",
       "      <td>Bruce@empresaSJ.com</td>\n",
       "    </tr>\n",
       "  </tbody>\n",
       "</table>\n",
       "</div>"
      ],
      "text/plain": [
       "           EDAD                   CORREO\n",
       "NOMBRE                                  \n",
       "pepe         20       pepe@empresaHE.com\n",
       "Max          23        Max@empresaHE.com\n",
       "Juan         45       Juan@empresaHE.com\n",
       "Isabela      23    Isabela@empresaSJ.com\n",
       "Christian    51  Christian@empresaSJ.com\n",
       "Bruce        32      Bruce@empresaSJ.com"
      ]
     },
     "execution_count": 25,
     "metadata": {},
     "output_type": "execute_result"
    }
   ],
   "source": [
    "ColaboradoresGeneral"
   ]
  },
  {
   "cell_type": "code",
   "execution_count": 27,
   "id": "67490fd8-1af4-478b-92d7-574d46974238",
   "metadata": {},
   "outputs": [],
   "source": [
    "VentasColaborador = pd.DataFrame({'NOMBRE':['pepe','Max','Juan','Isabela','Christian','Bruce'],\n",
    "                        'VENTAS':[4,2,3,4,5,6],}).set_index('NOMBRE')"
   ]
  },
  {
   "cell_type": "code",
   "execution_count": 31,
   "id": "14dd1353-c454-47bd-9113-da9adae8a2d2",
   "metadata": {},
   "outputs": [],
   "source": [
    "ColaboradoresGeneral = pd.concat([ColaboradoresGeneral,VentasColaborador], axis=1)"
   ]
  },
  {
   "cell_type": "code",
   "execution_count": 33,
   "id": "0f9e1191-52b3-47da-b4e1-31422ea98cf6",
   "metadata": {},
   "outputs": [
    {
     "data": {
      "text/html": [
       "<div>\n",
       "<style scoped>\n",
       "    .dataframe tbody tr th:only-of-type {\n",
       "        vertical-align: middle;\n",
       "    }\n",
       "\n",
       "    .dataframe tbody tr th {\n",
       "        vertical-align: top;\n",
       "    }\n",
       "\n",
       "    .dataframe thead th {\n",
       "        text-align: right;\n",
       "    }\n",
       "</style>\n",
       "<table border=\"1\" class=\"dataframe\">\n",
       "  <thead>\n",
       "    <tr style=\"text-align: right;\">\n",
       "      <th></th>\n",
       "      <th>EDAD</th>\n",
       "      <th>CORREO</th>\n",
       "      <th>VENTAS</th>\n",
       "    </tr>\n",
       "    <tr>\n",
       "      <th>NOMBRE</th>\n",
       "      <th></th>\n",
       "      <th></th>\n",
       "      <th></th>\n",
       "    </tr>\n",
       "  </thead>\n",
       "  <tbody>\n",
       "    <tr>\n",
       "      <th>pepe</th>\n",
       "      <td>20</td>\n",
       "      <td>pepe@empresaHE.com</td>\n",
       "      <td>4</td>\n",
       "    </tr>\n",
       "    <tr>\n",
       "      <th>Max</th>\n",
       "      <td>23</td>\n",
       "      <td>Max@empresaHE.com</td>\n",
       "      <td>2</td>\n",
       "    </tr>\n",
       "    <tr>\n",
       "      <th>Juan</th>\n",
       "      <td>45</td>\n",
       "      <td>Juan@empresaHE.com</td>\n",
       "      <td>3</td>\n",
       "    </tr>\n",
       "    <tr>\n",
       "      <th>Isabela</th>\n",
       "      <td>23</td>\n",
       "      <td>Isabela@empresaSJ.com</td>\n",
       "      <td>4</td>\n",
       "    </tr>\n",
       "    <tr>\n",
       "      <th>Christian</th>\n",
       "      <td>51</td>\n",
       "      <td>Christian@empresaSJ.com</td>\n",
       "      <td>5</td>\n",
       "    </tr>\n",
       "    <tr>\n",
       "      <th>Bruce</th>\n",
       "      <td>32</td>\n",
       "      <td>Bruce@empresaSJ.com</td>\n",
       "      <td>6</td>\n",
       "    </tr>\n",
       "  </tbody>\n",
       "</table>\n",
       "</div>"
      ],
      "text/plain": [
       "           EDAD                   CORREO  VENTAS\n",
       "NOMBRE                                          \n",
       "pepe         20       pepe@empresaHE.com       4\n",
       "Max          23        Max@empresaHE.com       2\n",
       "Juan         45       Juan@empresaHE.com       3\n",
       "Isabela      23    Isabela@empresaSJ.com       4\n",
       "Christian    51  Christian@empresaSJ.com       5\n",
       "Bruce        32      Bruce@empresaSJ.com       6"
      ]
     },
     "execution_count": 33,
     "metadata": {},
     "output_type": "execute_result"
    }
   ],
   "source": [
    "ColaboradoresGeneral"
   ]
  },
  {
   "cell_type": "code",
   "execution_count": 47,
   "id": "38dedb5e-64f1-4fe7-b509-b1a160fb3152",
   "metadata": {},
   "outputs": [
    {
     "name": "stdout",
     "output_type": "stream",
     "text": [
      "<class 'pandas.core.frame.DataFrame'>\n",
      "Index: 6 entries, pepe to Bruce\n",
      "Data columns (total 3 columns):\n",
      " #   Column  Non-Null Count  Dtype \n",
      "---  ------  --------------  ----- \n",
      " 0   EDAD    6 non-null      int64 \n",
      " 1   CORREO  6 non-null      object\n",
      " 2   VENTAS  6 non-null      int64 \n",
      "dtypes: int64(2), object(1)\n",
      "memory usage: 192.0+ bytes\n"
     ]
    }
   ],
   "source": [
    "ColaboradoresGeneral.info()"
   ]
  },
  {
   "cell_type": "code",
   "execution_count": 55,
   "id": "6c196c1c-b067-42dc-8a4f-61d7dd853dd8",
   "metadata": {},
   "outputs": [
    {
     "data": {
      "text/plain": [
       "<Axes: xlabel='NOMBRE', ylabel='VENTAS'>"
      ]
     },
     "execution_count": 55,
     "metadata": {},
     "output_type": "execute_result"
    },
    {
     "data": {
      "image/png": "[encoded data removed]",
      "text/plain": [
       "<Figure size 640x480 with 1 Axes>"
      ]
     },
     "metadata": {},
     "output_type": "display_data"
    }
   ],
   "source": [
    "sns.barplot(ColaboradoresGeneral['VENTAS'])"
   ]
  },
  {
   "cell_type": "code",
   "execution_count": 57,
   "id": "bf93274c-5711-410d-a0e9-116d51b8b227",
   "metadata": {},
   "outputs": [
    {
     "data": {
      "text/plain": [
       "<seaborn.axisgrid.FacetGrid at 0x1caaba37c20>"
      ]
     },
     "execution_count": 57,
     "metadata": {},
     "output_type": "execute_result"
    },
    {
     "data": {
      "image/png": "[encoded data removed]",
      "text/plain": [
       "<Figure size 500x500 with 1 Axes>"
      ]
     },
     "metadata": {},
     "output_type": "display_data"
    }
   ],
   "source": [
    "sns.displot(ColaboradoresGeneral['EDAD'])"
   ]
  },
  {
   "cell_type": "code",
   "execution_count": null,
   "id": "40eeaa22-448f-4b89-99cc-bbf15a1ed28b",
   "metadata": {},
   "outputs": [],
   "source": []
  }
 ],
 "metadata": {
  "kernelspec": {
   "display_name": "Python 3 (ipykernel)",
   "language": "python",
   "name": "python3"
  },
  "language_info": {
   "codemirror_mode": {
    "name": "ipython",
    "version": 3
   },
   "file_extension": ".py",
   "mimetype": "text/x-python",
   "name": "python",
   "nbconvert_exporter": "python",
   "pygments_lexer": "ipython3",
   "version": "3.12.4"
  }
 },
 "nbformat": 4,
 "nbformat_minor": 5
}
